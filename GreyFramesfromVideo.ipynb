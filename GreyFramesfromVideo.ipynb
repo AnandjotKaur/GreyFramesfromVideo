{
  "nbformat": 4,
  "nbformat_minor": 0,
  "metadata": {
    "colab": {
      "provenance": [],
      "authorship_tag": "ABX9TyNrHTW89Atxgw18wR/IF9hG",
      "include_colab_link": true
    },
    "kernelspec": {
      "name": "python3",
      "display_name": "Python 3"
    },
    "language_info": {
      "name": "python"
    }
  },
  "cells": [
    {
      "cell_type": "markdown",
      "metadata": {
        "id": "view-in-github",
        "colab_type": "text"
      },
      "source": [
        "<a href=\"https://colab.research.google.com/github/AnandjotKaur/GreyFramesfromVideo/blob/main/GreyFramesfromVideo.ipynb\" target=\"_parent\"><img src=\"https://colab.research.google.com/assets/colab-badge.svg\" alt=\"Open In Colab\"/></a>"
      ]
    },
    {
      "cell_type": "code",
      "execution_count": 3,
      "metadata": {
        "colab": {
          "base_uri": "https://localhost:8080/"
        },
        "id": "Tm8RJhCmzgzE",
        "outputId": "78456f3b-4af2-4d56-a432-47e20847b4b1"
      },
      "outputs": [
        {
          "output_type": "stream",
          "name": "stdout",
          "text": [
            "OpenCV version: 4.7.0\n",
            "Video has ended.\n",
            "Finished extracting gray images from video\n"
          ]
        }
      ],
      "source": [
        "import numpy as np\n",
        "import cv2\n",
        "print('OpenCV version: '+cv2.__version__)\n",
        "import matplotlib as plt\n",
        "\n",
        "def extractFrames(srcPath,dstPath,gray=False):\n",
        "    # gray = true writes only grayscale images of the video\n",
        "\n",
        "    cap = cv2.VideoCapture(srcPath)\n",
        "\n",
        "    # check if camera opened successfully\n",
        "    if (cap.isOpened() == False):\n",
        "        print(\"Error reading video file\")\n",
        "\n",
        "    try:\n",
        "        frameCount = 1\n",
        "        while(cap.isOpened()):\n",
        "\n",
        "            ret, frame = cap.read()\n",
        "\n",
        "            if ret == True:\n",
        "\n",
        "                if gray==True:\n",
        "                    gray = cv2.cvtColor(frame, cv2.COLOR_BGR2GRAY)\n",
        "                    cv2.imwrite(dstPath+'grayframe'+str(frameCount)+'.jpg',gray)\n",
        "\n",
        "                else:\n",
        "                    cv2.imwrite(dstPath+'colorframe'+str(frameCount)+'.jpg',frame)\n",
        "\n",
        "                frameCount += 1\n",
        "\n",
        "                if cv2.waitKey(1) & 0xFF == ord('q'):\n",
        "                    break\n",
        "\n",
        "            # if frame is read correctly, ret is True\n",
        "            else:\n",
        "                print(\"Can't retrieve frame - stream may have ended. Exiting..\")\n",
        "                break\n",
        "\n",
        "    except:\n",
        "        print(\"Video has ended.\")\n",
        "\n",
        "    cap.release()\n",
        "    cv2.destroyAllWindows()\n",
        "\n",
        "\n",
        "vidName = '/content/blossoms_-_113004 (360p).mp4'\n",
        "srcPath = vidName;\n",
        "dstPathColor = 'Extracted Images\\\\Color\\\\'\n",
        "dstPathGray = 'Extracted Images\\\\Gray\\\\'\n",
        "\n",
        "#extractFrames(srcPath,dstPathColor)\n",
        "#print('Finished extracting color images from video')\n",
        "\n",
        "extractFrames(srcPath,dstPathGray,gray=True)\n",
        "print('Finished extracting gray images from video')"
      ]
    }
  ]
}